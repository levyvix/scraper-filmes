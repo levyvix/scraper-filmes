{
 "cells": [
  {
   "cell_type": "code",
   "execution_count": 1,
   "metadata": {},
   "outputs": [],
   "source": [
    "from datetime import datetime"
   ]
  },
  {
   "cell_type": "code",
   "execution_count": 15,
   "metadata": {},
   "outputs": [
    {
     "name": "stdout",
     "output_type": "stream",
     "text": [
      "2021-03-16 00:00:00\n"
     ]
    }
   ],
   "source": [
    "import locale\n",
    "try:\n",
    "    locale.setlocale(locale.LC_ALL, 'pt_BR')\n",
    "except:\n",
    "    locale.setlocale(locale.LC_ALL, 'Portuguese_Brazil')\n",
    "\n",
    "import datetime\n",
    "date_string = \"16 de março de 2021\"\n",
    "date_object = datetime.datetime.strptime(date_string, \"%d de %B de %Y\")\n",
    "print(date_object)"
   ]
  },
  {
   "cell_type": "code",
   "execution_count": 1,
   "metadata": {},
   "outputs": [],
   "source": [
    "from sqlalchemy import create_engine\n",
    "import pandas as pd\n",
    "\n",
    "engine = create_engine(\"sqlite:///filmes/movie_database.db\")\n",
    "\n",
    "# get the last 10 movies by date_updated\n",
    "df = pd.read_sql_query(\n",
    "    \"SELECT * FROM movies ORDER BY date_updated DESC LIMIT 20\", engine\n",
    ")"
   ]
  },
  {
   "cell_type": "code",
   "execution_count": 7,
   "metadata": {},
   "outputs": [],
   "source": [
    "from pretty_html_table import build_table\n",
    "\n",
    "body = \"\"\"\n",
    "<html>\n",
    "<head>\n",
    "</head>\n",
    "\n",
    "<body>\n",
    "        {0}\n",
    "</body>\n",
    "\n",
    "</html>\n",
    "\"\"\".format(build_table(df, 'blue_light'))"
   ]
  },
  {
   "cell_type": "code",
   "execution_count": 1,
   "metadata": {},
   "outputs": [
    {
     "name": "stdout",
     "output_type": "stream",
     "text": [
      "Collecting Babel\n",
      "  Downloading Babel-2.12.1-py3-none-any.whl (10.1 MB)\n",
      "     --------------------------------------- 10.1/10.1 MB 35.8 MB/s eta 0:00:00\n",
      "Installing collected packages: Babel\n",
      "Successfully installed Babel-2.12.1\n"
     ]
    }
   ],
   "source": [
    "!pip install Babel"
   ]
  },
  {
   "cell_type": "code",
   "execution_count": 30,
   "metadata": {},
   "outputs": [
    {
     "ename": "IndexError",
     "evalue": "list index out of range",
     "output_type": "error",
     "traceback": [
      "\u001b[1;31m---------------------------------------------------------------------------\u001b[0m",
      "\u001b[1;31mIndexError\u001b[0m                                Traceback (most recent call last)",
      "Cell \u001b[1;32mIn[30], line 12\u001b[0m\n\u001b[0;32m      7\u001b[0m \u001b[39mif\u001b[39;00m \u001b[39mnot\u001b[39;00m babel\u001b[39m.\u001b[39mlocaledata\u001b[39m.\u001b[39mexists(\u001b[39m'\u001b[39m\u001b[39mpt_BR\u001b[39m\u001b[39m'\u001b[39m):\n\u001b[0;32m      8\u001b[0m     \u001b[39m# install locale\u001b[39;00m\n\u001b[0;32m      9\u001b[0m     babel\u001b[39m.\u001b[39mlocaledata\u001b[39m.\u001b[39m_install(\u001b[39m'\u001b[39m\u001b[39mpt_BR\u001b[39m\u001b[39m'\u001b[39m)\n\u001b[1;32m---> 12\u001b[0m parse_date(\u001b[39m\"\u001b[39;49m\u001b[39m16 de April de 2022\u001b[39;49m\u001b[39m\"\u001b[39;49m, locale\u001b[39m=\u001b[39;49m\u001b[39m'\u001b[39;49m\u001b[39mpt_BR\u001b[39;49m\u001b[39m'\u001b[39;49m)\n\u001b[0;32m     14\u001b[0m \u001b[39m# datetime.datetime.strptime(\"16 de Agosto de 2022\", \"%d de %B de %Y\")\u001b[39;00m\n",
      "File \u001b[1;32mc:\\Users\\levy\\.conda\\envs\\scrap\\lib\\site-packages\\babel\\dates.py:1230\u001b[0m, in \u001b[0;36mparse_date\u001b[1;34m(string, locale, format)\u001b[0m\n\u001b[0;32m   1225\u001b[0m indexes \u001b[39m=\u001b[39m {item[\u001b[39m1\u001b[39m]: idx \u001b[39mfor\u001b[39;00m idx, item \u001b[39min\u001b[39;00m \u001b[39menumerate\u001b[39m(indexes)}\n\u001b[0;32m   1227\u001b[0m \u001b[39m# FIXME: this currently only supports numbers, but should also support month\u001b[39;00m\n\u001b[0;32m   1228\u001b[0m \u001b[39m#        names, both in the requested locale, and english\u001b[39;00m\n\u001b[1;32m-> 1230\u001b[0m year \u001b[39m=\u001b[39m numbers[indexes[\u001b[39m'\u001b[39;49m\u001b[39mY\u001b[39;49m\u001b[39m'\u001b[39;49m]]\n\u001b[0;32m   1231\u001b[0m year \u001b[39m=\u001b[39m \u001b[39m2000\u001b[39m \u001b[39m+\u001b[39m \u001b[39mint\u001b[39m(year) \u001b[39mif\u001b[39;00m \u001b[39mlen\u001b[39m(year) \u001b[39m==\u001b[39m \u001b[39m2\u001b[39m \u001b[39melse\u001b[39;00m \u001b[39mint\u001b[39m(year)\n\u001b[0;32m   1232\u001b[0m month \u001b[39m=\u001b[39m \u001b[39mint\u001b[39m(numbers[indexes[\u001b[39m'\u001b[39m\u001b[39mM\u001b[39m\u001b[39m'\u001b[39m]])\n",
      "\u001b[1;31mIndexError\u001b[0m: list index out of range"
     ]
    }
   ],
   "source": [
    "from babel.dates import parse_date\n",
    "import datetime\n",
    "\n",
    "import babel\n",
    "\n",
    "# set locale pt-br\n",
    "if not babel.localedata.exists('pt_BR'):\n",
    "    # install locale\n",
    "    babel.localedata._install('pt_BR')\n",
    "    \n",
    "\n",
    "parse_date(\"16 de April de 2022\", locale='pt_BR')\n",
    "\n",
    "# datetime.datetime.strptime(\"16 de Agosto de 2022\", \"%d de %B de %Y\")"
   ]
  }
 ],
 "metadata": {
  "kernelspec": {
   "display_name": "scrap",
   "language": "python",
   "name": "python3"
  },
  "language_info": {
   "codemirror_mode": {
    "name": "ipython",
    "version": 3
   },
   "file_extension": ".py",
   "mimetype": "text/x-python",
   "name": "python",
   "nbconvert_exporter": "python",
   "pygments_lexer": "ipython3",
   "version": "3.9.16"
  },
  "orig_nbformat": 4,
  "vscode": {
   "interpreter": {
    "hash": "26dfff87d26c4f28102bc71357e19a681b2ac3248e22bf16d4a5611012113961"
   }
  }
 },
 "nbformat": 4,
 "nbformat_minor": 2
}
