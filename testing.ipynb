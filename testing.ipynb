{
 "cells": [
  {
   "cell_type": "code",
   "execution_count": 1,
   "metadata": {},
   "outputs": [],
   "source": [
    "from datetime import datetime"
   ]
  },
  {
   "cell_type": "code",
   "execution_count": 15,
   "metadata": {},
   "outputs": [
    {
     "name": "stdout",
     "output_type": "stream",
     "text": [
      "2021-03-16 00:00:00\n"
     ]
    }
   ],
   "source": [
    "import locale\n",
    "try:\n",
    "    locale.setlocale(locale.LC_ALL, 'pt_BR')\n",
    "except:\n",
    "    locale.setlocale(locale.LC_ALL, 'Portuguese_Brazil')\n",
    "\n",
    "import datetime\n",
    "date_string = \"16 de março de 2021\"\n",
    "date_object = datetime.datetime.strptime(date_string, \"%d de %B de %Y\")\n",
    "print(date_object)"
   ]
  },
  {
   "cell_type": "code",
   "execution_count": 1,
   "metadata": {},
   "outputs": [],
   "source": [
    "from sqlalchemy import create_engine\n",
    "import pandas as pd\n",
    "\n",
    "engine = create_engine(\"sqlite:///filmes/movie_database.db\")\n",
    "\n",
    "# get the last 10 movies by date_updated\n",
    "df = pd.read_sql_query(\n",
    "    \"SELECT * FROM movies ORDER BY date_updated DESC LIMIT 20\", engine\n",
    ")"
   ]
  },
  {
   "cell_type": "code",
   "execution_count": 7,
   "metadata": {},
   "outputs": [],
   "source": [
    "from pretty_html_table import build_table\n",
    "\n",
    "body = \"\"\"\n",
    "<html>\n",
    "<head>\n",
    "</head>\n",
    "\n",
    "<body>\n",
    "        {0}\n",
    "</body>\n",
    "\n",
    "</html>\n",
    "\"\"\".format(build_table(df, 'blue_light'))"
   ]
  }
 ],
 "metadata": {
  "kernelspec": {
   "display_name": "scrap",
   "language": "python",
   "name": "python3"
  },
  "language_info": {
   "codemirror_mode": {
    "name": "ipython",
    "version": 3
   },
   "file_extension": ".py",
   "mimetype": "text/x-python",
   "name": "python",
   "nbconvert_exporter": "python",
   "pygments_lexer": "ipython3",
   "version": "3.9.16"
  },
  "orig_nbformat": 4,
  "vscode": {
   "interpreter": {
    "hash": "26dfff87d26c4f28102bc71357e19a681b2ac3248e22bf16d4a5611012113961"
   }
  }
 },
 "nbformat": 4,
 "nbformat_minor": 2
}
